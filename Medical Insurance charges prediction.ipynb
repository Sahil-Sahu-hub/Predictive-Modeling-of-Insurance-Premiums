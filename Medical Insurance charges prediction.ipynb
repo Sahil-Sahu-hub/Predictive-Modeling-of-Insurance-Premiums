{
 "cells": [
  {
   "cell_type": "code",
   "execution_count": 1,
   "id": "e8c53aa6-af34-4d89-a989-b8a6de67eeea",
   "metadata": {},
   "outputs": [],
   "source": [
    "import pandas as pd\n",
    "import requests\n",
    "import matplotlib.pyplot as plt\n",
    "import numpy as np\n",
    "import seaborn as sns\n",
    "from sklearn.pipeline import Pipeline\n",
    "from sklearn.preprocessing import StandardScaler, PolynomialFeatures\n",
    "from sklearn.linear_model import LinearRegression, Ridge\n",
    "from sklearn.metrics import mean_squared_error, r2_score\n",
    "from sklearn.model_selection import cross_val_score, train_test_split\n",
    "import warnings"
   ]
  },
  {
   "cell_type": "code",
   "execution_count": 2,
   "id": "260ac1c6-3fe9-4ef1-bfd9-a4f8efd3a142",
   "metadata": {},
   "outputs": [],
   "source": [
    "warnings.filterwarnings('ignore')"
   ]
  },
  {
   "cell_type": "code",
   "execution_count": 3,
   "id": "cb3b1c8e-d90c-4c7d-8c67-e13c7549d9c0",
   "metadata": {},
   "outputs": [],
   "source": [
    "url = 'https://cf-courses-data.s3.us.cloud-object-storage.appdomain.cloud/IBMDeveloperSkillsNetwork-DA0101EN-Coursera/medical_insurance_dataset.csv'"
   ]
  },
  {
   "cell_type": "code",
   "execution_count": 4,
   "id": "0955bb88-bade-4492-b215-d499aea6e10b",
   "metadata": {},
   "outputs": [],
   "source": [
    "res = requests.get(url)\n",
    "df = pd.read_csv(url, header = None)"
   ]
  },
  {
   "cell_type": "code",
   "execution_count": 5,
   "id": "576802d3-54af-4c8b-9a60-64b1ffd1b970",
   "metadata": {},
   "outputs": [
    {
     "data": {
      "text/html": [
       "<div>\n",
       "<style scoped>\n",
       "    .dataframe tbody tr th:only-of-type {\n",
       "        vertical-align: middle;\n",
       "    }\n",
       "\n",
       "    .dataframe tbody tr th {\n",
       "        vertical-align: top;\n",
       "    }\n",
       "\n",
       "    .dataframe thead th {\n",
       "        text-align: right;\n",
       "    }\n",
       "</style>\n",
       "<table border=\"1\" class=\"dataframe\">\n",
       "  <thead>\n",
       "    <tr style=\"text-align: right;\">\n",
       "      <th></th>\n",
       "      <th>Age</th>\n",
       "      <th>Gender</th>\n",
       "      <th>BMI</th>\n",
       "      <th>No_of_children</th>\n",
       "      <th>Smoker</th>\n",
       "      <th>Region</th>\n",
       "      <th>Charges</th>\n",
       "    </tr>\n",
       "  </thead>\n",
       "  <tbody>\n",
       "    <tr>\n",
       "      <th>0</th>\n",
       "      <td>19</td>\n",
       "      <td>1</td>\n",
       "      <td>27.900</td>\n",
       "      <td>0</td>\n",
       "      <td>1</td>\n",
       "      <td>3</td>\n",
       "      <td>16884.92400</td>\n",
       "    </tr>\n",
       "    <tr>\n",
       "      <th>1</th>\n",
       "      <td>18</td>\n",
       "      <td>2</td>\n",
       "      <td>33.770</td>\n",
       "      <td>1</td>\n",
       "      <td>0</td>\n",
       "      <td>4</td>\n",
       "      <td>1725.55230</td>\n",
       "    </tr>\n",
       "    <tr>\n",
       "      <th>2</th>\n",
       "      <td>28</td>\n",
       "      <td>2</td>\n",
       "      <td>33.000</td>\n",
       "      <td>3</td>\n",
       "      <td>0</td>\n",
       "      <td>4</td>\n",
       "      <td>4449.46200</td>\n",
       "    </tr>\n",
       "    <tr>\n",
       "      <th>3</th>\n",
       "      <td>33</td>\n",
       "      <td>2</td>\n",
       "      <td>22.705</td>\n",
       "      <td>0</td>\n",
       "      <td>0</td>\n",
       "      <td>1</td>\n",
       "      <td>21984.47061</td>\n",
       "    </tr>\n",
       "    <tr>\n",
       "      <th>4</th>\n",
       "      <td>32</td>\n",
       "      <td>2</td>\n",
       "      <td>28.880</td>\n",
       "      <td>0</td>\n",
       "      <td>0</td>\n",
       "      <td>1</td>\n",
       "      <td>3866.85520</td>\n",
       "    </tr>\n",
       "    <tr>\n",
       "      <th>5</th>\n",
       "      <td>31</td>\n",
       "      <td>1</td>\n",
       "      <td>25.740</td>\n",
       "      <td>0</td>\n",
       "      <td>?</td>\n",
       "      <td>4</td>\n",
       "      <td>3756.62160</td>\n",
       "    </tr>\n",
       "    <tr>\n",
       "      <th>6</th>\n",
       "      <td>46</td>\n",
       "      <td>1</td>\n",
       "      <td>33.440</td>\n",
       "      <td>1</td>\n",
       "      <td>0</td>\n",
       "      <td>4</td>\n",
       "      <td>8240.58960</td>\n",
       "    </tr>\n",
       "    <tr>\n",
       "      <th>7</th>\n",
       "      <td>37</td>\n",
       "      <td>1</td>\n",
       "      <td>27.740</td>\n",
       "      <td>3</td>\n",
       "      <td>0</td>\n",
       "      <td>1</td>\n",
       "      <td>7281.50560</td>\n",
       "    </tr>\n",
       "    <tr>\n",
       "      <th>8</th>\n",
       "      <td>37</td>\n",
       "      <td>2</td>\n",
       "      <td>29.830</td>\n",
       "      <td>2</td>\n",
       "      <td>0</td>\n",
       "      <td>2</td>\n",
       "      <td>6406.41070</td>\n",
       "    </tr>\n",
       "    <tr>\n",
       "      <th>9</th>\n",
       "      <td>60</td>\n",
       "      <td>1</td>\n",
       "      <td>25.840</td>\n",
       "      <td>0</td>\n",
       "      <td>0</td>\n",
       "      <td>1</td>\n",
       "      <td>28923.13692</td>\n",
       "    </tr>\n",
       "  </tbody>\n",
       "</table>\n",
       "</div>"
      ],
      "text/plain": [
       "  Age  Gender     BMI  No_of_children Smoker  Region      Charges\n",
       "0  19       1  27.900               0      1       3  16884.92400\n",
       "1  18       2  33.770               1      0       4   1725.55230\n",
       "2  28       2  33.000               3      0       4   4449.46200\n",
       "3  33       2  22.705               0      0       1  21984.47061\n",
       "4  32       2  28.880               0      0       1   3866.85520\n",
       "5  31       1  25.740               0      ?       4   3756.62160\n",
       "6  46       1  33.440               1      0       4   8240.58960\n",
       "7  37       1  27.740               3      0       1   7281.50560\n",
       "8  37       2  29.830               2      0       2   6406.41070\n",
       "9  60       1  25.840               0      0       1  28923.13692"
      ]
     },
     "execution_count": 5,
     "metadata": {},
     "output_type": "execute_result"
    }
   ],
   "source": [
    "df.columns = ['Age','Gender','BMI','No_of_children','Smoker','Region','Charges']\n",
    "df.head(10)"
   ]
  },
  {
   "cell_type": "code",
   "execution_count": 6,
   "id": "44ba47d0-eb30-4ead-9d16-f9f90a5d344d",
   "metadata": {},
   "outputs": [],
   "source": [
    "df.replace('?',np.nan,inplace = True)"
   ]
  },
  {
   "cell_type": "code",
   "execution_count": 7,
   "id": "3d758951-c316-47ea-b7ef-0dcf17bea5e9",
   "metadata": {},
   "outputs": [
    {
     "name": "stdout",
     "output_type": "stream",
     "text": [
      "<class 'pandas.core.frame.DataFrame'>\n",
      "RangeIndex: 2772 entries, 0 to 2771\n",
      "Data columns (total 7 columns):\n",
      " #   Column          Non-Null Count  Dtype  \n",
      "---  ------          --------------  -----  \n",
      " 0   Age             2768 non-null   object \n",
      " 1   Gender          2772 non-null   int64  \n",
      " 2   BMI             2772 non-null   float64\n",
      " 3   No_of_children  2772 non-null   int64  \n",
      " 4   Smoker          2765 non-null   object \n",
      " 5   Region          2772 non-null   int64  \n",
      " 6   Charges         2772 non-null   float64\n",
      "dtypes: float64(2), int64(3), object(2)\n",
      "memory usage: 151.7+ KB\n"
     ]
    }
   ],
   "source": [
    "df.info()"
   ]
  },
  {
   "cell_type": "code",
   "execution_count": 8,
   "id": "c44d0311-354d-44df-a4e3-ea8bfc4bb255",
   "metadata": {},
   "outputs": [
    {
     "name": "stdout",
     "output_type": "stream",
     "text": [
      "Age\n",
      "False    2768\n",
      "True        4\n",
      "Name: count, dtype: int64\n",
      " \n",
      "Gender\n",
      "False    2772\n",
      "Name: count, dtype: int64\n",
      " \n",
      "BMI\n",
      "False    2772\n",
      "Name: count, dtype: int64\n",
      " \n",
      "No_of_children\n",
      "False    2772\n",
      "Name: count, dtype: int64\n",
      " \n",
      "Smoker\n",
      "False    2765\n",
      "True        7\n",
      "Name: count, dtype: int64\n",
      " \n",
      "Region\n",
      "False    2772\n",
      "Name: count, dtype: int64\n",
      " \n",
      "Charges\n",
      "False    2772\n",
      "Name: count, dtype: int64\n",
      " \n"
     ]
    }
   ],
   "source": [
    "# Checking for missing values\n",
    "missing_data = df.isnull()\n",
    "for i in missing_data.columns:\n",
    "    print(missing_data[i].value_counts())\n",
    "    print(' ')"
   ]
  },
  {
   "cell_type": "code",
   "execution_count": 9,
   "id": "f6ca503c-4e59-483e-ad14-d9dfc36432b1",
   "metadata": {},
   "outputs": [
    {
     "data": {
      "text/html": [
       "<div>\n",
       "<style scoped>\n",
       "    .dataframe tbody tr th:only-of-type {\n",
       "        vertical-align: middle;\n",
       "    }\n",
       "\n",
       "    .dataframe tbody tr th {\n",
       "        vertical-align: top;\n",
       "    }\n",
       "\n",
       "    .dataframe thead th {\n",
       "        text-align: right;\n",
       "    }\n",
       "</style>\n",
       "<table border=\"1\" class=\"dataframe\">\n",
       "  <thead>\n",
       "    <tr style=\"text-align: right;\">\n",
       "      <th></th>\n",
       "      <th>Age</th>\n",
       "      <th>Gender</th>\n",
       "      <th>BMI</th>\n",
       "      <th>No_of_children</th>\n",
       "      <th>Smoker</th>\n",
       "      <th>Region</th>\n",
       "      <th>Charges</th>\n",
       "    </tr>\n",
       "  </thead>\n",
       "  <tbody>\n",
       "    <tr>\n",
       "      <th>5</th>\n",
       "      <td>31</td>\n",
       "      <td>1</td>\n",
       "      <td>25.740</td>\n",
       "      <td>0</td>\n",
       "      <td>NaN</td>\n",
       "      <td>4</td>\n",
       "      <td>3756.62160</td>\n",
       "    </tr>\n",
       "    <tr>\n",
       "      <th>28</th>\n",
       "      <td>23</td>\n",
       "      <td>2</td>\n",
       "      <td>17.385</td>\n",
       "      <td>1</td>\n",
       "      <td>NaN</td>\n",
       "      <td>1</td>\n",
       "      <td>2775.19215</td>\n",
       "    </tr>\n",
       "    <tr>\n",
       "      <th>72</th>\n",
       "      <td>53</td>\n",
       "      <td>1</td>\n",
       "      <td>28.100</td>\n",
       "      <td>3</td>\n",
       "      <td>NaN</td>\n",
       "      <td>3</td>\n",
       "      <td>11741.72600</td>\n",
       "    </tr>\n",
       "    <tr>\n",
       "      <th>122</th>\n",
       "      <td>20</td>\n",
       "      <td>1</td>\n",
       "      <td>28.975</td>\n",
       "      <td>0</td>\n",
       "      <td>NaN</td>\n",
       "      <td>1</td>\n",
       "      <td>2257.47525</td>\n",
       "    </tr>\n",
       "    <tr>\n",
       "      <th>176</th>\n",
       "      <td>38</td>\n",
       "      <td>2</td>\n",
       "      <td>27.835</td>\n",
       "      <td>2</td>\n",
       "      <td>NaN</td>\n",
       "      <td>1</td>\n",
       "      <td>6455.86265</td>\n",
       "    </tr>\n",
       "    <tr>\n",
       "      <th>234</th>\n",
       "      <td>NaN</td>\n",
       "      <td>2</td>\n",
       "      <td>24.510</td>\n",
       "      <td>2</td>\n",
       "      <td>0</td>\n",
       "      <td>1</td>\n",
       "      <td>6710.19190</td>\n",
       "    </tr>\n",
       "    <tr>\n",
       "      <th>242</th>\n",
       "      <td>55</td>\n",
       "      <td>1</td>\n",
       "      <td>26.800</td>\n",
       "      <td>1</td>\n",
       "      <td>NaN</td>\n",
       "      <td>3</td>\n",
       "      <td>35160.13457</td>\n",
       "    </tr>\n",
       "    <tr>\n",
       "      <th>324</th>\n",
       "      <td>29</td>\n",
       "      <td>2</td>\n",
       "      <td>27.200</td>\n",
       "      <td>0</td>\n",
       "      <td>NaN</td>\n",
       "      <td>3</td>\n",
       "      <td>2866.09100</td>\n",
       "    </tr>\n",
       "    <tr>\n",
       "      <th>1836</th>\n",
       "      <td>NaN</td>\n",
       "      <td>2</td>\n",
       "      <td>29.600</td>\n",
       "      <td>4</td>\n",
       "      <td>0</td>\n",
       "      <td>3</td>\n",
       "      <td>7512.26700</td>\n",
       "    </tr>\n",
       "    <tr>\n",
       "      <th>2180</th>\n",
       "      <td>NaN</td>\n",
       "      <td>1</td>\n",
       "      <td>31.920</td>\n",
       "      <td>2</td>\n",
       "      <td>0</td>\n",
       "      <td>1</td>\n",
       "      <td>7209.49180</td>\n",
       "    </tr>\n",
       "    <tr>\n",
       "      <th>2664</th>\n",
       "      <td>NaN</td>\n",
       "      <td>2</td>\n",
       "      <td>29.925</td>\n",
       "      <td>1</td>\n",
       "      <td>1</td>\n",
       "      <td>2</td>\n",
       "      <td>22462.04375</td>\n",
       "    </tr>\n",
       "  </tbody>\n",
       "</table>\n",
       "</div>"
      ],
      "text/plain": [
       "      Age  Gender     BMI  No_of_children Smoker  Region      Charges\n",
       "5      31       1  25.740               0    NaN       4   3756.62160\n",
       "28     23       2  17.385               1    NaN       1   2775.19215\n",
       "72     53       1  28.100               3    NaN       3  11741.72600\n",
       "122    20       1  28.975               0    NaN       1   2257.47525\n",
       "176    38       2  27.835               2    NaN       1   6455.86265\n",
       "234   NaN       2  24.510               2      0       1   6710.19190\n",
       "242    55       1  26.800               1    NaN       3  35160.13457\n",
       "324    29       2  27.200               0    NaN       3   2866.09100\n",
       "1836  NaN       2  29.600               4      0       3   7512.26700\n",
       "2180  NaN       1  31.920               2      0       1   7209.49180\n",
       "2664  NaN       2  29.925               1      1       2  22462.04375"
      ]
     },
     "execution_count": 9,
     "metadata": {},
     "output_type": "execute_result"
    }
   ],
   "source": [
    "df[df.isnull().any(axis = 1)]"
   ]
  },
  {
   "cell_type": "code",
   "execution_count": 10,
   "id": "b5153e14-0c2e-4f0f-adae-6b7fc6d5d05f",
   "metadata": {},
   "outputs": [
    {
     "name": "stdout",
     "output_type": "stream",
     "text": [
      "<class 'pandas.core.frame.DataFrame'>\n",
      "RangeIndex: 2772 entries, 0 to 2771\n",
      "Data columns (total 7 columns):\n",
      " #   Column          Non-Null Count  Dtype  \n",
      "---  ------          --------------  -----  \n",
      " 0   Age             2772 non-null   int64  \n",
      " 1   Gender          2772 non-null   int64  \n",
      " 2   BMI             2772 non-null   float64\n",
      " 3   No_of_children  2772 non-null   int64  \n",
      " 4   Smoker          2772 non-null   int64  \n",
      " 5   Region          2772 non-null   int64  \n",
      " 6   Charges         2772 non-null   float64\n",
      "dtypes: float64(2), int64(5)\n",
      "memory usage: 151.7 KB\n"
     ]
    }
   ],
   "source": [
    "#converting Age to float as there are string value present and will throw erroe for mean\n",
    "mean_age = df['Age'].astype('float').mean()\n",
    "df['Age'].replace(np.nan,mean_age,inplace = True)\n",
    "\n",
    "# smoker is a categorical attribute, replace with most frequent entry\n",
    "mode_smoker = df['Smoker'].value_counts().idxmax()\n",
    "df['Smoker'].replace(np.nan,mode_smoker, inplace = True)\n",
    "\n",
    "#updating the datatypes\n",
    "df[['Age','Smoker']] = df[['Age','Smoker']].astype('int')\n",
    "\n",
    "df.info()"
   ]
  },
  {
   "cell_type": "code",
   "execution_count": 11,
   "id": "c3ac914b-fc96-48be-b5b3-19f6a6fbca9f",
   "metadata": {},
   "outputs": [],
   "source": [
    "df['Charges'] = round(df['Charges'],2)"
   ]
  },
  {
   "cell_type": "code",
   "execution_count": 22,
   "id": "a2bce987-721f-4511-a812-5b69a98276fd",
   "metadata": {},
   "outputs": [
    {
     "data": {
      "text/html": [
       "<div>\n",
       "<style scoped>\n",
       "    .dataframe tbody tr th:only-of-type {\n",
       "        vertical-align: middle;\n",
       "    }\n",
       "\n",
       "    .dataframe tbody tr th {\n",
       "        vertical-align: top;\n",
       "    }\n",
       "\n",
       "    .dataframe thead th {\n",
       "        text-align: right;\n",
       "    }\n",
       "</style>\n",
       "<table border=\"1\" class=\"dataframe\">\n",
       "  <thead>\n",
       "    <tr style=\"text-align: right;\">\n",
       "      <th></th>\n",
       "      <th>Age</th>\n",
       "      <th>Gender</th>\n",
       "      <th>BMI</th>\n",
       "      <th>No_of_children</th>\n",
       "      <th>Smoker</th>\n",
       "      <th>Region</th>\n",
       "      <th>Charges</th>\n",
       "    </tr>\n",
       "  </thead>\n",
       "  <tbody>\n",
       "    <tr>\n",
       "      <th>count</th>\n",
       "      <td>2772.000000</td>\n",
       "      <td>2772.000000</td>\n",
       "      <td>2772.000000</td>\n",
       "      <td>2772.000000</td>\n",
       "      <td>2772.000000</td>\n",
       "      <td>2772.000000</td>\n",
       "      <td>2772.000000</td>\n",
       "    </tr>\n",
       "    <tr>\n",
       "      <th>mean</th>\n",
       "      <td>39.109668</td>\n",
       "      <td>1.507215</td>\n",
       "      <td>30.701349</td>\n",
       "      <td>1.101732</td>\n",
       "      <td>0.203463</td>\n",
       "      <td>2.559885</td>\n",
       "      <td>13261.369957</td>\n",
       "    </tr>\n",
       "    <tr>\n",
       "      <th>std</th>\n",
       "      <td>14.081459</td>\n",
       "      <td>0.500038</td>\n",
       "      <td>6.129449</td>\n",
       "      <td>1.214806</td>\n",
       "      <td>0.402647</td>\n",
       "      <td>1.130761</td>\n",
       "      <td>12151.768970</td>\n",
       "    </tr>\n",
       "    <tr>\n",
       "      <th>min</th>\n",
       "      <td>18.000000</td>\n",
       "      <td>1.000000</td>\n",
       "      <td>15.960000</td>\n",
       "      <td>0.000000</td>\n",
       "      <td>0.000000</td>\n",
       "      <td>1.000000</td>\n",
       "      <td>1121.870000</td>\n",
       "    </tr>\n",
       "    <tr>\n",
       "      <th>25%</th>\n",
       "      <td>26.000000</td>\n",
       "      <td>1.000000</td>\n",
       "      <td>26.220000</td>\n",
       "      <td>0.000000</td>\n",
       "      <td>0.000000</td>\n",
       "      <td>2.000000</td>\n",
       "      <td>4687.800000</td>\n",
       "    </tr>\n",
       "    <tr>\n",
       "      <th>50%</th>\n",
       "      <td>39.000000</td>\n",
       "      <td>2.000000</td>\n",
       "      <td>30.447500</td>\n",
       "      <td>1.000000</td>\n",
       "      <td>0.000000</td>\n",
       "      <td>3.000000</td>\n",
       "      <td>9333.015000</td>\n",
       "    </tr>\n",
       "    <tr>\n",
       "      <th>75%</th>\n",
       "      <td>51.000000</td>\n",
       "      <td>2.000000</td>\n",
       "      <td>34.770000</td>\n",
       "      <td>2.000000</td>\n",
       "      <td>0.000000</td>\n",
       "      <td>4.000000</td>\n",
       "      <td>16577.780000</td>\n",
       "    </tr>\n",
       "    <tr>\n",
       "      <th>max</th>\n",
       "      <td>64.000000</td>\n",
       "      <td>2.000000</td>\n",
       "      <td>53.130000</td>\n",
       "      <td>5.000000</td>\n",
       "      <td>1.000000</td>\n",
       "      <td>4.000000</td>\n",
       "      <td>63770.430000</td>\n",
       "    </tr>\n",
       "  </tbody>\n",
       "</table>\n",
       "</div>"
      ],
      "text/plain": [
       "               Age       Gender          BMI  No_of_children       Smoker  \\\n",
       "count  2772.000000  2772.000000  2772.000000     2772.000000  2772.000000   \n",
       "mean     39.109668     1.507215    30.701349        1.101732     0.203463   \n",
       "std      14.081459     0.500038     6.129449        1.214806     0.402647   \n",
       "min      18.000000     1.000000    15.960000        0.000000     0.000000   \n",
       "25%      26.000000     1.000000    26.220000        0.000000     0.000000   \n",
       "50%      39.000000     2.000000    30.447500        1.000000     0.000000   \n",
       "75%      51.000000     2.000000    34.770000        2.000000     0.000000   \n",
       "max      64.000000     2.000000    53.130000        5.000000     1.000000   \n",
       "\n",
       "            Region       Charges  \n",
       "count  2772.000000   2772.000000  \n",
       "mean      2.559885  13261.369957  \n",
       "std       1.130761  12151.768970  \n",
       "min       1.000000   1121.870000  \n",
       "25%       2.000000   4687.800000  \n",
       "50%       3.000000   9333.015000  \n",
       "75%       4.000000  16577.780000  \n",
       "max       4.000000  63770.430000  "
      ]
     },
     "execution_count": 22,
     "metadata": {},
     "output_type": "execute_result"
    }
   ],
   "source": [
    "df.describe()"
   ]
  },
  {
   "cell_type": "code",
   "execution_count": 12,
   "id": "362a9199-e24a-4cec-9cbd-f93aff1fd2de",
   "metadata": {},
   "outputs": [
    {
     "data": {
      "text/plain": [
       "(0.0, 66902.85800000001)"
      ]
     },
     "execution_count": 12,
     "metadata": {},
     "output_type": "execute_result"
    },
    {
     "data": {
      "image/png": "[encoded data removed]",
      "text/plain": [
       "<Figure size 640x480 with 1 Axes>"
      ]
     },
     "metadata": {},
     "output_type": "display_data"
    }
   ],
   "source": [
    "sns.regplot(x = 'BMI',y = 'Charges',data = df,line_kws={'color':'red'})\n",
    "plt.ylim(0,)"
   ]
  },
  {
   "cell_type": "markdown",
   "id": "da0bc5d9-23f1-48b8-b33d-7cfd8855e971",
   "metadata": {},
   "source": [
    "BMI is a significant predictor of increasing costs, but its effect is not linear for all. As a member's BMI increases, so does their expected cost, suggesting that policies should scale premiums based on BMI thresholds"
   ]
  },
  {
   "cell_type": "code",
   "execution_count": 13,
   "id": "d88db6a3-ef58-4acc-824d-8da5b65da50c",
   "metadata": {},
   "outputs": [
    {
     "data": {
      "text/plain": [
       "<Axes: xlabel='Smoker', ylabel='Charges'>"
      ]
     },
     "execution_count": 13,
     "metadata": {},
     "output_type": "execute_result"
    },
    {
     "data": {
      "image/png": "[encoded data removed]",
      "text/plain": [
       "<Figure size 640x480 with 1 Axes>"
      ]
     },
     "metadata": {},
     "output_type": "display_data"
    }
   ],
   "source": [
    "sns.boxplot(x ='Smoker',y = 'Charges',data = df)"
   ]
  },
  {
   "cell_type": "markdown",
   "id": "ff8f4509-658e-4a3a-a9b0-b601f9cdd548",
   "metadata": {},
   "source": [
    "**The Impact of Smoking**\n",
    "\n",
    "Smoking is the single largest controllable risk driver. The data clearly segments our member base, showing that non-smokers are consistently low-cost, while smokers represent a high-risk, high-cost segment. This difference justifies significantly higher premiums for smokers."
   ]
  },
  {
   "cell_type": "code",
   "execution_count": 14,
   "id": "5253eb1d-fd1e-41a7-a8f9-f1c0e534a17e",
   "metadata": {},
   "outputs": [
    {
     "data": {
      "text/plain": [
       "<Axes: >"
      ]
     },
     "execution_count": 14,
     "metadata": {},
     "output_type": "execute_result"
    },
    {
     "data": {
      "image/png": "[encoded data removed]",
      "text/plain": [
       "<Figure size 640x480 with 2 Axes>"
      ]
     },
     "metadata": {},
     "output_type": "display_data"
    }
   ],
   "source": [
    "df_corr = df.corr()\n",
    "sns.heatmap(df_corr,annot = True,fmt = '.2f', cmap = 'coolwarm')"
   ]
  },
  {
   "cell_type": "code",
   "execution_count": 15,
   "id": "b080fe00-0042-42ca-a25b-3a4fd66bad90",
   "metadata": {},
   "outputs": [
    {
     "data": {
      "text/plain": [
       "0.6221791733924185"
      ]
     },
     "execution_count": 15,
     "metadata": {},
     "output_type": "execute_result"
    }
   ],
   "source": [
    "# Implementing Linear Regression for predicting charges with smoker attribute\n",
    "lm = LinearRegression()\n",
    "x = df[['Smoker']]\n",
    "y = df['Charges']\n",
    "lm.fit(x,y)\n",
    "score_1 = lm.score(x,y)\n",
    "#Checking th R squared score\n",
    "score_1"
   ]
  },
  {
   "cell_type": "markdown",
   "id": "ddd58d91-45d4-494d-99a2-7b7d32112985",
   "metadata": {},
   "source": [
    "Smoking alone explains 62% of the variance in charges. This statistic is powerful evidence supporting our current pricing strategy, but it also signals that we must factor in other variables to capture the remaining 38% of cost variation"
   ]
  },
  {
   "cell_type": "code",
   "execution_count": 16,
   "id": "6cd8247b-9101-484c-b0e4-dfd3ff35ae4b",
   "metadata": {},
   "outputs": [
    {
     "data": {
      "text/plain": [
       "0.7504083820289634"
      ]
     },
     "execution_count": 16,
     "metadata": {},
     "output_type": "execute_result"
    }
   ],
   "source": [
    "# Implementing Linear Regression for predicting charges with all the attributes\n",
    "z = df[['Age','Gender','BMI','No_of_children','Smoker','Region']]\n",
    "lm.fit(z,y)\n",
    "score_2 = lm.score(z,y)\n",
    "score_2"
   ]
  },
  {
   "cell_type": "code",
   "execution_count": 17,
   "id": "37bd05d8-82e3-4871-923e-890803aafe13",
   "metadata": {},
   "outputs": [
    {
     "name": "stdout",
     "output_type": "stream",
     "text": [
      "0.8452576213500093\n"
     ]
    }
   ],
   "source": [
    "# Creating a training pipeline to create a model that can predict the charges value using all the other attributes of the dataset\n",
    "Input=[('scale',StandardScaler()), ('polynomial', PolynomialFeatures(include_bias=False)), ('model', LinearRegression())]\n",
    "pipe = Pipeline(Input)\n",
    "z = z.astype('float')\n",
    "pipe.fit(z,y)\n",
    "ypipe = pipe.predict(z)\n",
    "print(r2_score(y,ypipe))"
   ]
  },
  {
   "cell_type": "code",
   "execution_count": 18,
   "id": "190b8d1f-0ce5-483e-9660-ae3783fd210f",
   "metadata": {},
   "outputs": [],
   "source": [
    "# Split the data into training and testing subsets, 20% of the data will be reserved for testing.\n",
    "x_train,x_test,y_train,y_test = train_test_split(z,y,test_size = 0.2, random_state = 1)"
   ]
  },
  {
   "cell_type": "code",
   "execution_count": 19,
   "id": "1d0244d4-65bc-4f0d-a3c3-e55c7dc075ab",
   "metadata": {},
   "outputs": [
    {
     "name": "stdout",
     "output_type": "stream",
     "text": [
      "0.6760807731582406\n"
     ]
    }
   ],
   "source": [
    "RidgeModel = Ridge(alpha = 0.1)\n",
    "RidgeModel.fit(x_train,y_train)\n",
    "yhat = RidgeModel.predict(x_test)\n",
    "print(r2_score(y_test,yhat))"
   ]
  },
  {
   "cell_type": "code",
   "execution_count": 20,
   "id": "ae7e016d-218a-446a-aaee-4ed3f003f912",
   "metadata": {},
   "outputs": [
    {
     "name": "stdout",
     "output_type": "stream",
     "text": [
      "0.7835631107608061\n"
     ]
    }
   ],
   "source": [
    "pr = PolynomialFeatures(degree=2)\n",
    "x_train_pr = pr.fit_transform(x_train)\n",
    "x_test_pr = pr.transform(x_test)\n",
    "RidgeModel.fit(x_train_pr,y_train)\n",
    "yhat = RidgeModel.predict(x_test_pr)\n",
    "print(r2_score(y_test,yhat))"
   ]
  },
  {
   "cell_type": "markdown",
   "id": "9983df66-d4ff-4318-a2c2-afbb16c6ee99",
   "metadata": {},
   "source": [
    "**The Value of the Predictive Model**\n",
    "\n",
    "We can now predict individual member charges with approximately 78% accuracy. This level of predictive power is crucial for three things:\n",
    "1. Accurate Premium Pricing\n",
    "2. Financial Forecasting \n",
    "3.  Risk Assessment"
   ]
  }
 ],
 "metadata": {
  "kernelspec": {
   "display_name": "Python [conda env:base] *",
   "language": "python",
   "name": "conda-base-py"
  },
  "language_info": {
   "codemirror_mode": {
    "name": "ipython",
    "version": 3
   },
   "file_extension": ".py",
   "mimetype": "text/x-python",
   "name": "python",
   "nbconvert_exporter": "python",
   "pygments_lexer": "ipython3",
   "version": "3.13.5"
  }
 },
 "nbformat": 4,
 "nbformat_minor": 5
}
